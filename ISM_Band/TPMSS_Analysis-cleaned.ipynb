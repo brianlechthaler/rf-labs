{
 "cells": [
  {
   "cell_type": "markdown",
   "metadata": {},
   "source": [
    "# TPMSS Analysis\n",
    "## Tire pressure monitor data extraction\n",
    "**DISCLAIMER:** Use for good, not evil. If you use this for anything unethical/illegal, I don't want to know! As always ethical/legal additions to this are welcomed!\n",
    "\n",
    "\n",
    "From what I understand, when a car equipped with one of these TPMSS devices is traveling at 20+ mph it will beacon out it's ID, pressure, and temperature at an interval of 60 seconds at 315MHz. What we're focusing on here is the ID, because it's what's most likely to be used to track you in street-level surveillence. \n",
    "\n",
    "Potential use cases: \n",
    "* Checking your tire pressure. Duh.\n",
    "* Diagnosing problems with any indicators on your car regarding tire pressure\n",
    "* (UNETHICAL) Track people's behavior patterns and movements.\n",
    "* Mass data collection (ANONYMIZE YOUR DATA!)\n",
    "\n",
    "\n",
    "**by Brian Lechthaler**\n",
    "\n",
    "*Authored 05/04/19 -- Data cleaned 05/09/19*"
   ]
  },
  {
   "cell_type": "code",
   "execution_count": 1,
   "metadata": {},
   "outputs": [],
   "source": [
    "#We'll need this to parse and manipulate our data\n",
    "import pandas as pd\n",
    "#We will also need numpy to do some mathematics\n",
    "import numpy as np\n",
    "#Just in case we need it, here's matplotlib \n",
    "import matplotlib.pyplot as plt"
   ]
  },
  {
   "cell_type": "markdown",
   "metadata": {},
   "source": [
    "## Raw data\n",
    "As you can see, the raw CSV output from rtl_433 contains a ton of NaN data we need to clip out.\n",
    "\n",
    "So, let's fix that by cleaning things up a bit and removing all columns containing NaN values."
   ]
  },
  {
   "cell_type": "code",
   "execution_count": 2,
   "metadata": {},
   "outputs": [
    {
     "name": "stdout",
     "output_type": "stream",
     "text": [
      "                   time  msg  codes   model  button        id  channel  \\\n",
      "0   2019-05-01 18:00:56  NaN    NaN  Toyota     NaN  00004e2e      NaN   \n",
      "1   2019-05-01 18:02:20  NaN    NaN  Toyota     NaN  11114be1      NaN   \n",
      "2   2019-05-01 18:02:32  NaN    NaN  Toyota     NaN  00004e2e      NaN   \n",
      "3   2019-05-01 18:03:06  NaN    NaN  Toyota     NaN  111151f1      NaN   \n",
      "4   2019-05-01 18:03:56  NaN    NaN  Toyota     NaN  11114be1      NaN   \n",
      "5   2019-05-01 18:04:06  NaN    NaN  Toyota     NaN  00004e2e      NaN   \n",
      "6   2019-05-01 18:04:41  NaN    NaN  Toyota     NaN  111151f1      NaN   \n",
      "7   2019-05-01 18:05:32  NaN    NaN  Toyota     NaN  11114be1      NaN   \n",
      "8   2019-05-01 18:05:40  NaN    NaN  Toyota     NaN  00004e2e      NaN   \n",
      "9   2019-05-01 18:07:09  NaN    NaN  Toyota     NaN  11114be1      NaN   \n",
      "10  2019-05-01 18:07:13  NaN    NaN  Toyota     NaN  00004e2e      NaN   \n",
      "11  2019-05-01 18:07:53  NaN    NaN  Toyota     NaN  111151f1      NaN   \n",
      "12  2019-05-01 18:08:45  NaN    NaN  Toyota     NaN  11114be1      NaN   \n",
      "13  2019-05-01 18:08:49  NaN    NaN  Toyota     NaN  00004e2e      NaN   \n",
      "14  2019-05-01 18:08:50  NaN    NaN  Toyota     NaN  11114c50      NaN   \n",
      "15  2019-05-01 18:18:20  NaN    NaN  Toyota     NaN  11114be1      NaN   \n",
      "16  2019-05-01 18:19:15  NaN    NaN  Toyota     NaN  00004e42      NaN   \n",
      "17  2019-05-01 18:19:55  NaN    NaN  Toyota     NaN  00004e2e      NaN   \n",
      "\n",
      "    battery  temperature_C  mic  ...  sensor_value  battery_voltage  failed  \\\n",
      "0       NaN           22.0  CRC  ...           NaN              NaN     NaN   \n",
      "1       NaN           18.0  CRC  ...           NaN              NaN     NaN   \n",
      "2       NaN           22.0  CRC  ...           NaN              NaN     NaN   \n",
      "3       NaN           19.0  CRC  ...           NaN              NaN     NaN   \n",
      "4       NaN           18.0  CRC  ...           NaN              NaN     NaN   \n",
      "5       NaN           22.0  CRC  ...           NaN              NaN     NaN   \n",
      "6       NaN           19.0  CRC  ...           NaN              NaN     NaN   \n",
      "7       NaN           18.0  CRC  ...           NaN              NaN     NaN   \n",
      "8       NaN           22.0  CRC  ...           NaN              NaN     NaN   \n",
      "9       NaN           18.0  CRC  ...           NaN              NaN     NaN   \n",
      "10      NaN           22.0  CRC  ...           NaN              NaN     NaN   \n",
      "11      NaN           19.0  CRC  ...           NaN              NaN     NaN   \n",
      "12      NaN           18.0  CRC  ...           NaN              NaN     NaN   \n",
      "13      NaN           22.0  CRC  ...           NaN              NaN     NaN   \n",
      "14      NaN           19.0  CRC  ...           NaN              NaN     NaN   \n",
      "15      NaN           18.0  CRC  ...           NaN              NaN     NaN   \n",
      "16      NaN           21.0  CRC  ...           NaN              NaN     NaN   \n",
      "17      NaN           21.0  CRC  ...           NaN              NaN     NaN   \n",
      "\n",
      "    class  alert  secret_knock  relay  wind_dev_deg  exposure_mins  transmit_s  \n",
      "0     NaN    NaN           NaN    NaN           NaN            NaN         NaN  \n",
      "1     NaN    NaN           NaN    NaN           NaN            NaN         NaN  \n",
      "2     NaN    NaN           NaN    NaN           NaN            NaN         NaN  \n",
      "3     NaN    NaN           NaN    NaN           NaN            NaN         NaN  \n",
      "4     NaN    NaN           NaN    NaN           NaN            NaN         NaN  \n",
      "5     NaN    NaN           NaN    NaN           NaN            NaN         NaN  \n",
      "6     NaN    NaN           NaN    NaN           NaN            NaN         NaN  \n",
      "7     NaN    NaN           NaN    NaN           NaN            NaN         NaN  \n",
      "8     NaN    NaN           NaN    NaN           NaN            NaN         NaN  \n",
      "9     NaN    NaN           NaN    NaN           NaN            NaN         NaN  \n",
      "10    NaN    NaN           NaN    NaN           NaN            NaN         NaN  \n",
      "11    NaN    NaN           NaN    NaN           NaN            NaN         NaN  \n",
      "12    NaN    NaN           NaN    NaN           NaN            NaN         NaN  \n",
      "13    NaN    NaN           NaN    NaN           NaN            NaN         NaN  \n",
      "14    NaN    NaN           NaN    NaN           NaN            NaN         NaN  \n",
      "15    NaN    NaN           NaN    NaN           NaN            NaN         NaN  \n",
      "16    NaN    NaN           NaN    NaN           NaN            NaN         NaN  \n",
      "17    NaN    NaN           NaN    NaN           NaN            NaN         NaN  \n",
      "\n",
      "[18 rows x 169 columns]\n",
      "This data is pretty messy...\n"
     ]
    }
   ],
   "source": [
    "#Run rtl_433 with args: -f 315M -v -F csv:tpmss_samples0.csv\n",
    "#make sure the output from that command is in the same folder as this notebook!\n",
    "csvdata = pd.read_csv(\"tpmssData_cleaned.csv\")\n",
    "print(csvdata)\n",
    "print(\"This data is pretty messy...\")"
   ]
  },
  {
   "cell_type": "code",
   "execution_count": 3,
   "metadata": {},
   "outputs": [
    {
     "name": "stdout",
     "output_type": "stream",
     "text": [
      "                   time   model        id  temperature_C  mic  status  type  \\\n",
      "0   2019-05-01 18:00:56  Toyota  00004e2e           22.0  CRC     128  TPMS   \n",
      "1   2019-05-01 18:02:20  Toyota  11114be1           18.0  CRC     128  TPMS   \n",
      "2   2019-05-01 18:02:32  Toyota  00004e2e           22.0  CRC     128  TPMS   \n",
      "3   2019-05-01 18:03:06  Toyota  111151f1           19.0  CRC     128  TPMS   \n",
      "4   2019-05-01 18:03:56  Toyota  11114be1           18.0  CRC     128  TPMS   \n",
      "5   2019-05-01 18:04:06  Toyota  00004e2e           22.0  CRC     128  TPMS   \n",
      "6   2019-05-01 18:04:41  Toyota  111151f1           19.0  CRC     128  TPMS   \n",
      "7   2019-05-01 18:05:32  Toyota  11114be1           18.0  CRC     128  TPMS   \n",
      "8   2019-05-01 18:05:40  Toyota  00004e2e           22.0  CRC     128  TPMS   \n",
      "9   2019-05-01 18:07:09  Toyota  11114be1           18.0  CRC     128  TPMS   \n",
      "10  2019-05-01 18:07:13  Toyota  00004e2e           22.0  CRC     128  TPMS   \n",
      "11  2019-05-01 18:07:53  Toyota  111151f1           19.0  CRC     128  TPMS   \n",
      "12  2019-05-01 18:08:45  Toyota  11114be1           18.0  CRC     128  TPMS   \n",
      "13  2019-05-01 18:08:49  Toyota  00004e2e           22.0  CRC     128  TPMS   \n",
      "14  2019-05-01 18:08:50  Toyota  11114c50           19.0  CRC     128  TPMS   \n",
      "15  2019-05-01 18:18:20  Toyota  11114be1           18.0  CRC     128  TPMS   \n",
      "16  2019-05-01 18:19:15  Toyota  00004e42           21.0  CRC     128  TPMS   \n",
      "17  2019-05-01 18:19:55  Toyota  00004e2e           21.0  CRC     128  TPMS   \n",
      "\n",
      "    pressure_PSI  \n",
      "0          32.00  \n",
      "1          36.50  \n",
      "2          32.00  \n",
      "3          36.75  \n",
      "4          36.50  \n",
      "5          32.00  \n",
      "6          36.50  \n",
      "7          36.50  \n",
      "8          32.00  \n",
      "9          36.50  \n",
      "10         32.00  \n",
      "11         36.75  \n",
      "12         36.50  \n",
      "13         32.00  \n",
      "14         36.00  \n",
      "15         36.50  \n",
      "16         31.00  \n",
      "17         31.75  \n",
      "See? Much better!\n"
     ]
    }
   ],
   "source": [
    "#Now let's clean up our data a little bit\n",
    "cleandata = csvdata.dropna(axis = 1)\n",
    "df0 = pd.DataFrame(cleandata)\n",
    "print(cleandata)\n",
    "print(\"See? Much better!\")"
   ]
  },
  {
   "cell_type": "markdown",
   "metadata": {},
   "source": [
    "## Unique IDs\n",
    "* These are the unique identification strings for the tire pressure monitors we picked up.\n",
    "* 4 Hex bits (8 characters): First three bits seem to be unique to the vehicle, last bit seems to indicate which tire it's attached to\n",
    "* **NB: This data has been anonymized!** There were two cars (assumption) in the csv, the first 2 bits were changed from their raw values. The first car is 0000, and the second car is 1111.\n"
   ]
  },
  {
   "cell_type": "code",
   "execution_count": 4,
   "metadata": {},
   "outputs": [
    {
     "name": "stdout",
     "output_type": "stream",
     "text": [
      "Here are thte unique IDs from the captured TPMSS data:\n",
      "['00004e2e' '11114be1' '111151f1' '11114c50' '00004e42']\n"
     ]
    }
   ],
   "source": [
    "uniqueIDs = pd.unique(df0.id)\n",
    "print(\"Here are thte unique IDs from the captured TPMSS data:\")\n",
    "print(uniqueIDs)"
   ]
  }
 ],
 "metadata": {
  "kernelspec": {
   "display_name": "Python 3",
   "language": "python",
   "name": "python3"
  },
  "language_info": {
   "codemirror_mode": {
    "name": "ipython",
    "version": 3
   },
   "file_extension": ".py",
   "mimetype": "text/x-python",
   "name": "python",
   "nbconvert_exporter": "python",
   "pygments_lexer": "ipython3",
   "version": "3.7.3"
  }
 },
 "nbformat": 4,
 "nbformat_minor": 2
}
